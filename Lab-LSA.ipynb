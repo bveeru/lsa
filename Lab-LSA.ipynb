{
 "cells": [
  {
   "cell_type": "code",
   "execution_count": 1,
   "metadata": {
    "collapsed": true
   },
   "outputs": [],
   "source": [
    "from sklearn.datasets import fetch_20newsgroups\n",
    "categories = ['rec.sport.baseball']\n",
    "dataset = fetch_20newsgroups(subset='all',shuffle=True, random_state=42, categories=categories)\n",
    "corpus = dataset.data"
   ]
  },
  {
   "cell_type": "code",
   "execution_count": 2,
   "metadata": {
    "collapsed": true
   },
   "outputs": [],
   "source": [
    "from bs4 import BeautifulSoup\n",
    "import nltk\n",
    "from nltk.corpus import stopwords\n",
    "from sklearn.feature_extraction.text import TfidfVectorizer\n",
    "from sklearn.decomposition import TruncatedSVD"
   ]
  },
  {
   "cell_type": "code",
   "execution_count": 3,
   "metadata": {
    "collapsed": false
   },
   "outputs": [
    {
     "name": "stdout",
     "output_type": "stream",
     "text": [
      "[nltk_data] Downloading package stopwords to /home/shiva/nltk_data...\n",
      "[nltk_data]   Package stopwords is already up-to-date!\n"
     ]
    },
    {
     "data": {
      "text/plain": [
       "True"
      ]
     },
     "execution_count": 3,
     "metadata": {},
     "output_type": "execute_result"
    }
   ],
   "source": [
    "nltk.download('stopwords')"
   ]
  },
  {
   "cell_type": "code",
   "execution_count": 4,
   "metadata": {
    "collapsed": false
   },
   "outputs": [
    {
     "data": {
      "text/plain": [
       "u\"From: writingctr@leo.bsuvc.bsu.edu\\nSubject: Re: CUB fever.\\nOrganization: Ball State University, Muncie, In - Univ. Computing Svc's\\nLines: 21\\n\\n\\nIn article <kingoz.735285670@camelot>, kingoz@camelot.bradley.edu (Orin Roth) writes:\\n> \\n>    CUB fever is hitting me again. I'm beginning to think they have a \\n>    chance this year. (what the heck am i thinking?)\\n>    Sorry. Just a moment of incompetence.\\n>    I'll be ok. Really. \\n>    Orin.\\n>    Bradley U.\\n> \\n> --\\n> I'm really a jester in disguise!                                   \\nI hear ya!  Then again, we must remember that we are indeed Cub fans, and\\nthat the Cubs will eventually blow it.  After all, the Cubs are the easiest\\nteam in the National League to root for.  No Pressure.  You know they will\\nlose eventually.  Oh well, I suppose we must have faith.  After all, they\\ndo look pretty good, and they don't even have Sandberg back yet.  \\n\\nCUBS IN '93!!!!!\\n\\nCHA\\n\""
      ]
     },
     "execution_count": 4,
     "metadata": {},
     "output_type": "execute_result"
    }
   ],
   "source": [
    "corpus[0]"
   ]
  },
  {
   "cell_type": "code",
   "execution_count": 11,
   "metadata": {
    "collapsed": true
   },
   "outputs": [],
   "source": [
    "stopset = set(stopwords.words('english'))\n",
    "stopset.update(['lt','p','/p','br','amp','quot','field','font','normal','span','0px','rgb','style','51', \n",
    "                'spacing','text','helvetica','size','family', 'space', 'arial', 'height', 'indent', 'letter'\n",
    "                'line','none','sans','serif','transform','line','variant','weight','times', 'new','strong', 'video', 'title'\n",
    "                'white','word','letter', 'roman','0pt','16','color','12','14','21', 'neue', 'apple', 'class',  ])"
   ]
  },
  {
   "cell_type": "code",
   "execution_count": 12,
   "metadata": {
    "collapsed": false
   },
   "outputs": [
    {
     "data": {
      "text/plain": [
       "u\"From: writingctr@leo.bsuvc.bsu.edu\\nSubject: Re: CUB fever.\\nOrganization: Ball State University, Muncie, In - Univ. Computing Svc's\\nLines: 21\\n\\n\\nIn article <kingoz.735285670@camelot>, kingoz@camelot.bradley.edu (Orin Roth) writes:\\n> \\n>    CUB fever is hitting me again. I'm beginning to think they have a \\n>    chance this year. (what the heck am i thinking?)\\n>    Sorry. Just a moment of incompetence.\\n>    I'll be ok. Really. \\n>    Orin.\\n>    Bradley U.\\n> \\n> --\\n> I'm really a jester in disguise!                                   \\nI hear ya!  Then again, we must remember that we are indeed Cub fans, and\\nthat the Cubs will eventually blow it.  After all, the Cubs are the easiest\\nteam in the National League to root for.  No Pressure.  You know they will\\nlose eventually.  Oh well, I suppose we must have faith.  After all, they\\ndo look pretty good, and they don't even have Sandberg back yet.  \\n\\nCUBS IN '93!!!!!\\n\\nCHA\\n\""
      ]
     },
     "execution_count": 12,
     "metadata": {},
     "output_type": "execute_result"
    }
   ],
   "source": [
    "corpus[0]"
   ]
  },
  {
   "cell_type": "code",
   "execution_count": 13,
   "metadata": {
    "collapsed": true
   },
   "outputs": [],
   "source": [
    "vectorizer = TfidfVectorizer(stop_words=stopset,\n",
    "                                 use_idf=True, ngram_range=(1, 3))\n",
    "X = vectorizer.fit_transform(corpus)"
   ]
  },
  {
   "cell_type": "code",
   "execution_count": 14,
   "metadata": {
    "collapsed": false
   },
   "outputs": [
    {
     "data": {
      "text/plain": [
       "<1x190159 sparse matrix of type '<type 'numpy.float64'>'\n",
       "\twith 235 stored elements in Compressed Sparse Row format>"
      ]
     },
     "execution_count": 14,
     "metadata": {},
     "output_type": "execute_result"
    }
   ],
   "source": [
    "X[0]"
   ]
  },
  {
   "cell_type": "code",
   "execution_count": 15,
   "metadata": {
    "collapsed": false
   },
   "outputs": [
    {
     "name": "stdout",
     "output_type": "stream",
     "text": [
      "  (0, 51460)\t0.0734463096625\n",
      "  (0, 189431)\t0.0734463096625\n",
      "  (0, 28954)\t0.0734463096625\n",
      "  (0, 146556)\t0.0734463096625\n",
      "  (0, 64407)\t0.0734463096625\n",
      "  (0, 77917)\t0.0734463096625\n",
      "  (0, 133158)\t0.0734463096625\n",
      "  (0, 103424)\t0.0734463096625\n",
      "  (0, 66793)\t0.0734463096625\n",
      "  (0, 114520)\t0.0734463096625\n",
      "  (0, 163261)\t0.0734463096625\n",
      "  (0, 181100)\t0.0734463096625\n",
      "  (0, 119624)\t0.0734463096625\n",
      "  (0, 64543)\t0.0734463096625\n",
      "  (0, 103918)\t0.0734463096625\n",
      "  (0, 95532)\t0.0734463096625\n",
      "  (0, 133073)\t0.0734463096625\n",
      "  (0, 143720)\t0.0734463096625\n",
      "  (0, 98126)\t0.0734463096625\n",
      "  (0, 115161)\t0.0734463096625\n",
      "  (0, 165620)\t0.0734463096625\n",
      "  (0, 59664)\t0.0734463096625\n",
      "  (0, 51500)\t0.0734463096625\n",
      "  (0, 35721)\t0.0734463096625\n",
      "  (0, 64533)\t0.0734463096625\n",
      "  :\t:\n",
      "  (0, 143954)\t0.0551931192048\n",
      "  (0, 122291)\t0.11038623841\n",
      "  (0, 37510)\t0.0989842910659\n",
      "  (0, 40680)\t0.104524831508\n",
      "  (0, 16529)\t0.0734463096625\n",
      "  (0, 94943)\t0.11038623841\n",
      "  (0, 25779)\t0.0160794683389\n",
      "  (0, 100805)\t0.010248916482\n",
      "  (0, 163850)\t0.0606840380211\n",
      "  (0, 48144)\t0.0387972930629\n",
      "  (0, 175254)\t0.0391426583255\n",
      "  (0, 114318)\t0.0606840380211\n",
      "  (0, 175290)\t0.0179368326547\n",
      "  (0, 159024)\t0.0372269139097\n",
      "  (0, 29476)\t0.0306118463788\n",
      "  (0, 121678)\t0.0102695385529\n",
      "  (0, 68334)\t0.124508834349\n",
      "  (0, 51382)\t0.160868220155\n",
      "  (0, 137192)\t0.0126673855948\n",
      "  (0, 161824)\t0.0101872995629\n",
      "  (0, 60164)\t0.023728059338\n",
      "  (0, 38750)\t0.0505117257066\n",
      "  (0, 38760)\t0.0505117257066\n",
      "  (0, 99152)\t0.0494921455329\n",
      "  (0, 186930)\t0.0734463096625\n"
     ]
    }
   ],
   "source": [
    "print X[0]"
   ]
  },
  {
   "cell_type": "code",
   "execution_count": 16,
   "metadata": {
    "collapsed": false
   },
   "outputs": [
    {
     "data": {
      "text/plain": [
       "TruncatedSVD(algorithm='randomized', n_components=27, n_iter=100,\n",
       "       random_state=None, tol=0.0)"
      ]
     },
     "execution_count": 16,
     "metadata": {},
     "output_type": "execute_result"
    }
   ],
   "source": [
    "lsa = TruncatedSVD(n_components=27, n_iter=100)\n",
    "lsa.fit(X)"
   ]
  },
  {
   "cell_type": "code",
   "execution_count": 17,
   "metadata": {
    "collapsed": false
   },
   "outputs": [
    {
     "data": {
      "text/plain": [
       "array([ 0.01601607,  0.00499136,  0.0008138 , ...,  0.00102587,\n",
       "        0.00102587,  0.00102587])"
      ]
     },
     "execution_count": 17,
     "metadata": {},
     "output_type": "execute_result"
    }
   ],
   "source": [
    "lsa.components_[0]"
   ]
  },
  {
   "cell_type": "code",
   "execution_count": 18,
   "metadata": {
    "collapsed": false
   },
   "outputs": [
    {
     "name": "stdout",
     "output_type": "stream",
     "text": [
      "Concept 0:\n",
      "edu\n",
      "com\n",
      "year\n",
      "writes\n",
      "team\n",
      "would\n",
      "game\n",
      "article\n",
      "re\n",
      "cs\n",
      " \n",
      "Concept 1:\n",
      "jewish\n",
      "know\n",
      "come\n",
      "organization\n",
      "anyone\n",
      "much\n",
      "writes\n",
      "years\n",
      "home\n",
      "us\n",
      " \n",
      "Concept 2:\n",
      "edu\n",
      "nntp\n",
      "subject\n",
      "nntp posting\n",
      "10\n",
      "nntp posting host\n",
      "posting host\n",
      "lot\n",
      "one\n",
      "better\n",
      " \n",
      "Concept 3:\n",
      "time\n",
      "edu\n",
      "year\n",
      "organization university\n",
      "say\n",
      "writes\n",
      "run\n",
      "subject\n",
      "subject re\n",
      "games\n",
      " \n",
      "Concept 4:\n",
      "year\n",
      "morris\n",
      "make\n",
      "get\n",
      "fan\n",
      "players\n",
      "play\n",
      "really\n",
      "ibm\n",
      "cs\n",
      " \n",
      "Concept 5:\n",
      "team\n",
      "game\n",
      "baseball\n",
      "runs\n",
      "one\n",
      "first\n",
      "time\n",
      "would\n",
      "pitching\n",
      "hit\n",
      " \n",
      "Concept 6:\n",
      "time\n",
      "team\n",
      "game\n",
      "think\n",
      "runs\n",
      "games\n",
      "posting\n",
      "way\n",
      "like\n",
      "doesn\n",
      " \n",
      "Concept 7:\n",
      "players\n",
      "morris\n",
      "team\n",
      "baseball\n",
      "game\n",
      "10\n",
      "games\n",
      "back\n",
      "organization university\n",
      "let\n",
      " \n",
      "Concept 8:\n",
      "year\n",
      "cs\n",
      "player\n",
      "10\n",
      "last\n",
      "writes article\n",
      "even\n",
      "sox\n",
      "like\n",
      "ca\n",
      " \n",
      "Concept 9:\n",
      "writes\n",
      "edu\n",
      "distribution\n",
      "win\n",
      "know\n",
      "even\n",
      "lines\n",
      "players\n",
      "hit\n",
      "posting\n",
      " \n",
      "Concept 10:\n",
      "00\n",
      "last\n",
      "much\n",
      "runs\n",
      "year\n",
      "posting\n",
      "edu\n",
      "braves\n",
      "years\n",
      "dave\n",
      " \n",
      "Concept 11:\n",
      "00\n",
      "com\n",
      "much\n",
      "article\n",
      "organization\n",
      "netcom com\n",
      "best\n",
      "writes article\n",
      "play\n",
      "netcom\n",
      " \n",
      "Concept 12:\n",
      "00\n",
      "many\n",
      "make\n",
      "best\n",
      "gant\n",
      "baseball\n",
      "10\n",
      "bonds\n",
      "run\n",
      "like\n",
      " \n",
      "Concept 13:\n",
      "00\n",
      "year\n",
      "one\n",
      "organization\n",
      "well\n",
      "win\n",
      "university\n",
      "hitter\n",
      "made\n",
      "last\n",
      " \n",
      "Concept 14:\n",
      "last\n",
      "players\n",
      "00\n",
      "game\n",
      "would\n",
      "first\n",
      "base\n",
      "lines\n",
      "usa\n",
      "good\n",
      " \n",
      "Concept 15:\n",
      "00\n",
      "writes\n",
      "won\n",
      "article\n",
      "players\n",
      "com\n",
      "baseball\n",
      "see\n",
      "reply\n",
      "braves\n",
      " \n",
      "Concept 16:\n",
      "game\n",
      "00\n",
      "good\n",
      "braves\n",
      "players\n",
      "nntp\n",
      "distribution\n",
      "posting\n",
      "hit\n",
      "say\n",
      " \n",
      "Concept 17:\n",
      "com\n",
      "see\n",
      "team\n",
      "article\n",
      "well\n",
      "subject re\n",
      "know\n",
      "home\n",
      "win\n",
      "games\n",
      " \n",
      "Concept 18:\n",
      "good\n",
      "runs\n",
      "could\n",
      "players\n",
      "much\n",
      "see\n",
      "one\n",
      "better\n",
      "year\n",
      "ve\n",
      " \n",
      "Concept 19:\n",
      "one\n",
      "year\n",
      "games\n",
      "braves\n",
      "would\n",
      "game\n",
      "go\n",
      "even\n",
      "really\n",
      "well\n",
      " \n",
      "Concept 20:\n",
      "00\n",
      "would\n",
      "team\n",
      "better\n",
      "hit\n",
      "edu\n",
      "host\n",
      "one\n",
      "good\n",
      "cs\n",
      " \n",
      "Concept 21:\n",
      "writes\n",
      "time\n",
      "year\n",
      "cs\n",
      "better\n",
      "first\n",
      "anyone\n",
      "subject re\n",
      "article\n",
      "get\n",
      " \n",
      "Concept 22:\n",
      "players\n",
      "year\n",
      "host\n",
      "re\n",
      "subject\n",
      "know\n",
      "like\n",
      "university\n",
      "last year\n",
      "say\n",
      " \n",
      "Concept 23:\n",
      "would\n",
      "think\n",
      "pitching\n",
      "many\n",
      "last year\n",
      "00\n",
      "average\n",
      "re\n",
      "edu\n",
      "one\n",
      " \n",
      "Concept 24:\n",
      "even\n",
      "would\n",
      "baseball\n",
      "organization\n",
      "nntp posting\n",
      "nntp posting host\n",
      "posting host\n",
      "nntp\n",
      "com\n",
      "cs\n",
      " \n",
      "Concept 25:\n",
      "baseball\n",
      "organization\n",
      "com\n",
      "first\n",
      "article\n",
      "subject re\n",
      "game\n",
      "re\n",
      "back\n",
      "say\n",
      " \n",
      "Concept 26:\n",
      "host\n",
      "com\n",
      "two\n",
      "one\n",
      "get\n",
      "time\n",
      "go\n",
      "years\n",
      "play\n",
      "would\n",
      " \n"
     ]
    }
   ],
   "source": [
    "terms = vectorizer.get_feature_names()\n",
    "for i, comp in enumerate(lsa.components_): \n",
    "    termsInComp = zip (terms,comp)\n",
    "    sortedTerms =  sorted(termsInComp, key=lambda x: x[1], reverse=True) [:10]\n",
    "    print \"Concept %d:\" % i\n",
    "    for term in sortedTerms:\n",
    "        print term[0]\n",
    "    print \" \""
   ]
  },
  {
   "cell_type": "code",
   "execution_count": null,
   "metadata": {
    "collapsed": true
   },
   "outputs": [],
   "source": []
  }
 ],
 "metadata": {
  "kernelspec": {
   "display_name": "Python 2",
   "language": "python",
   "name": "python2"
  },
  "language_info": {
   "codemirror_mode": {
    "name": "ipython",
    "version": 2
   },
   "file_extension": ".py",
   "mimetype": "text/x-python",
   "name": "python",
   "nbconvert_exporter": "python",
   "pygments_lexer": "ipython2",
   "version": "2.7.10"
  }
 },
 "nbformat": 4,
 "nbformat_minor": 0
}
